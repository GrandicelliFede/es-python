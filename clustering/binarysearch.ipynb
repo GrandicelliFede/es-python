{
 "cells": [
  {
   "cell_type": "code",
   "execution_count": 8,
   "metadata": {},
   "outputs": [
    {
     "name": "stdout",
     "output_type": "stream",
     "text": [
      "[1000, 500.0, 250.0, 125.0, 62.5, 31.25, 15.625, 7.8125, 3.90625, 1.953125, 0.9765625]\n"
     ]
    }
   ],
   "source": [
    "\n",
    "x=1000\n",
    "i=0\n",
    "a=[]\n",
    "while x>1:\n",
    "    x=x/2\n",
    "    a.append(x)\n",
    "    i=i+1\n",
    "\n",
    "\n",
    "print(a)"
   ]
  },
  {
   "cell_type": "code",
   "execution_count": 19,
   "metadata": {},
   "outputs": [
    {
     "name": "stdout",
     "output_type": "stream",
     "text": [
      "937.5\n",
      "875.0\n",
      "812.5\n",
      "750.0\n",
      "687.5\n",
      "625.0\n",
      "562.5\n",
      "500.0\n",
      "437.5\n",
      "375.0\n",
      "312.5\n",
      "250.0\n",
      "187.5\n",
      "125.0\n",
      "62.5\n",
      "0.0\n"
     ]
    }
   ],
   "source": [
    "f=1000\n",
    "while f>1:\n",
    "    f=f-a[1]\n",
    "    print(f)\n",
    "\n",
    "\n",
    "\n",
    "\n",
    "\n",
    "\n",
    "\n"
   ]
  },
  {
   "cell_type": "code",
   "execution_count": null,
   "metadata": {},
   "outputs": [],
   "source": []
  }
 ],
 "metadata": {
  "kernelspec": {
   "display_name": "Python 3",
   "language": "python",
   "name": "python3"
  },
  "language_info": {
   "codemirror_mode": {
    "name": "ipython",
    "version": 3
   },
   "file_extension": ".py",
   "mimetype": "text/x-python",
   "name": "python",
   "nbconvert_exporter": "python",
   "pygments_lexer": "ipython3",
   "version": "3.12.2"
  }
 },
 "nbformat": 4,
 "nbformat_minor": 2
}
