{
 "cells": [
  {
   "cell_type": "code",
   "execution_count": 25,
   "metadata": {},
   "outputs": [],
   "source": [
    "import pandas as pd\n",
    "import numpy as np\n",
    "from sklearn.datasets import make_moons\n",
    "import matplotlib.pyplot as plt\n",
    "import seaborn as sns\n",
    "from sklearn.cluster import DBSCAN\n",
    "from sklearn.metrics import silhouette_score\n",
    "from sklearn.metrics import v_measure_score\n",
    "import scipy.spatial"
   ]
  },
  {
   "cell_type": "code",
   "execution_count": 26,
   "metadata": {},
   "outputs": [],
   "source": [
    "a = np.array([1,1,3,4,5,6,9,10,11,12])\n",
    "b = np.array([1,6,0,5,0,10,6,1,6,10])"
   ]
  },
  {
   "cell_type": "code",
   "execution_count": 27,
   "metadata": {},
   "outputs": [
    {
     "data": {
      "text/html": [
       "<div>\n",
       "<style scoped>\n",
       "    .dataframe tbody tr th:only-of-type {\n",
       "        vertical-align: middle;\n",
       "    }\n",
       "\n",
       "    .dataframe tbody tr th {\n",
       "        vertical-align: top;\n",
       "    }\n",
       "\n",
       "    .dataframe thead th {\n",
       "        text-align: right;\n",
       "    }\n",
       "</style>\n",
       "<table border=\"1\" class=\"dataframe\">\n",
       "  <thead>\n",
       "    <tr style=\"text-align: right;\">\n",
       "      <th></th>\n",
       "      <th>a</th>\n",
       "      <th>b</th>\n",
       "    </tr>\n",
       "    <tr>\n",
       "      <th>Point</th>\n",
       "      <th></th>\n",
       "      <th></th>\n",
       "    </tr>\n",
       "  </thead>\n",
       "  <tbody>\n",
       "    <tr>\n",
       "      <th>P1</th>\n",
       "      <td>1</td>\n",
       "      <td>1</td>\n",
       "    </tr>\n",
       "    <tr>\n",
       "      <th>P2</th>\n",
       "      <td>1</td>\n",
       "      <td>6</td>\n",
       "    </tr>\n",
       "    <tr>\n",
       "      <th>P3</th>\n",
       "      <td>3</td>\n",
       "      <td>0</td>\n",
       "    </tr>\n",
       "    <tr>\n",
       "      <th>P4</th>\n",
       "      <td>4</td>\n",
       "      <td>5</td>\n",
       "    </tr>\n",
       "    <tr>\n",
       "      <th>P5</th>\n",
       "      <td>5</td>\n",
       "      <td>0</td>\n",
       "    </tr>\n",
       "    <tr>\n",
       "      <th>P6</th>\n",
       "      <td>6</td>\n",
       "      <td>10</td>\n",
       "    </tr>\n",
       "    <tr>\n",
       "      <th>P7</th>\n",
       "      <td>9</td>\n",
       "      <td>6</td>\n",
       "    </tr>\n",
       "    <tr>\n",
       "      <th>P8</th>\n",
       "      <td>10</td>\n",
       "      <td>1</td>\n",
       "    </tr>\n",
       "    <tr>\n",
       "      <th>P9</th>\n",
       "      <td>11</td>\n",
       "      <td>6</td>\n",
       "    </tr>\n",
       "    <tr>\n",
       "      <th>P10</th>\n",
       "      <td>12</td>\n",
       "      <td>10</td>\n",
       "    </tr>\n",
       "  </tbody>\n",
       "</table>\n",
       "</div>"
      ],
      "text/plain": [
       "        a   b\n",
       "Point        \n",
       "P1      1   1\n",
       "P2      1   6\n",
       "P3      3   0\n",
       "P4      4   5\n",
       "P5      5   0\n",
       "P6      6  10\n",
       "P7      9   6\n",
       "P8     10   1\n",
       "P9     11   6\n",
       "P10    12  10"
      ]
     },
     "execution_count": 27,
     "metadata": {},
     "output_type": "execute_result"
    }
   ],
   "source": [
    "point = ['P1','P2','P3','P4','P5','P6','P7','P8','P9','P10']\n",
    "data = pd.DataFrame({'Point':point, 'a':np.round(a,2), 'b':np.round(b,2)})\n",
    "data = data.set_index('Point')\n",
    "data"
   ]
  },
  {
   "cell_type": "code",
   "execution_count": 28,
   "metadata": {},
   "outputs": [
    {
     "data": {
      "image/png": "[encoded data removed]",
      "text/plain": [
       "<Figure size 800x500 with 1 Axes>"
      ]
     },
     "metadata": {},
     "output_type": "display_data"
    }
   ],
   "source": [
    "plt.figure(figsize=(8,5))\n",
    "plt.scatter(data['a'], data['b'], c='r', marker='*')\n",
    "plt.xlabel('x')\n",
    "plt.ylabel('y')\n",
    "plt.title('Scatter Plot of x and y')\n",
    "for j in data.itertuples():\n",
    "    plt.annotate(j.Index, (j.a, j.b), fontsize=15)"
   ]
  },
  {
   "cell_type": "code",
   "execution_count": 29,
   "metadata": {},
   "outputs": [
    {
     "data": {
      "text/html": [
       "<div>\n",
       "<style scoped>\n",
       "    .dataframe tbody tr th:only-of-type {\n",
       "        vertical-align: middle;\n",
       "    }\n",
       "\n",
       "    .dataframe tbody tr th {\n",
       "        vertical-align: top;\n",
       "    }\n",
       "\n",
       "    .dataframe thead th {\n",
       "        text-align: right;\n",
       "    }\n",
       "</style>\n",
       "<table border=\"1\" class=\"dataframe\">\n",
       "  <thead>\n",
       "    <tr style=\"text-align: right;\">\n",
       "      <th></th>\n",
       "      <th>P1</th>\n",
       "      <th>P2</th>\n",
       "      <th>P3</th>\n",
       "      <th>P4</th>\n",
       "      <th>P5</th>\n",
       "      <th>P6</th>\n",
       "      <th>P7</th>\n",
       "      <th>P8</th>\n",
       "      <th>P9</th>\n",
       "      <th>P10</th>\n",
       "    </tr>\n",
       "  </thead>\n",
       "  <tbody>\n",
       "    <tr>\n",
       "      <th>P1</th>\n",
       "      <td>0.000000</td>\n",
       "      <td>5.000000</td>\n",
       "      <td>2.236068</td>\n",
       "      <td>5.000000</td>\n",
       "      <td>4.123106</td>\n",
       "      <td>10.295630</td>\n",
       "      <td>9.433981</td>\n",
       "      <td>9.000000</td>\n",
       "      <td>11.180340</td>\n",
       "      <td>14.212670</td>\n",
       "    </tr>\n",
       "    <tr>\n",
       "      <th>P2</th>\n",
       "      <td>5.000000</td>\n",
       "      <td>0.000000</td>\n",
       "      <td>6.324555</td>\n",
       "      <td>3.162278</td>\n",
       "      <td>7.211103</td>\n",
       "      <td>6.403124</td>\n",
       "      <td>8.000000</td>\n",
       "      <td>10.295630</td>\n",
       "      <td>10.000000</td>\n",
       "      <td>11.704700</td>\n",
       "    </tr>\n",
       "    <tr>\n",
       "      <th>P3</th>\n",
       "      <td>2.236068</td>\n",
       "      <td>6.324555</td>\n",
       "      <td>0.000000</td>\n",
       "      <td>5.099020</td>\n",
       "      <td>2.000000</td>\n",
       "      <td>10.440307</td>\n",
       "      <td>8.485281</td>\n",
       "      <td>7.071068</td>\n",
       "      <td>10.000000</td>\n",
       "      <td>13.453624</td>\n",
       "    </tr>\n",
       "    <tr>\n",
       "      <th>P4</th>\n",
       "      <td>5.000000</td>\n",
       "      <td>3.162278</td>\n",
       "      <td>5.099020</td>\n",
       "      <td>0.000000</td>\n",
       "      <td>5.099020</td>\n",
       "      <td>5.385165</td>\n",
       "      <td>5.099020</td>\n",
       "      <td>7.211103</td>\n",
       "      <td>7.071068</td>\n",
       "      <td>9.433981</td>\n",
       "    </tr>\n",
       "    <tr>\n",
       "      <th>P5</th>\n",
       "      <td>4.123106</td>\n",
       "      <td>7.211103</td>\n",
       "      <td>2.000000</td>\n",
       "      <td>5.099020</td>\n",
       "      <td>0.000000</td>\n",
       "      <td>10.049876</td>\n",
       "      <td>7.211103</td>\n",
       "      <td>5.099020</td>\n",
       "      <td>8.485281</td>\n",
       "      <td>12.206556</td>\n",
       "    </tr>\n",
       "    <tr>\n",
       "      <th>P6</th>\n",
       "      <td>10.295630</td>\n",
       "      <td>6.403124</td>\n",
       "      <td>10.440307</td>\n",
       "      <td>5.385165</td>\n",
       "      <td>10.049876</td>\n",
       "      <td>0.000000</td>\n",
       "      <td>5.000000</td>\n",
       "      <td>9.848858</td>\n",
       "      <td>6.403124</td>\n",
       "      <td>6.000000</td>\n",
       "    </tr>\n",
       "    <tr>\n",
       "      <th>P7</th>\n",
       "      <td>9.433981</td>\n",
       "      <td>8.000000</td>\n",
       "      <td>8.485281</td>\n",
       "      <td>5.099020</td>\n",
       "      <td>7.211103</td>\n",
       "      <td>5.000000</td>\n",
       "      <td>0.000000</td>\n",
       "      <td>5.099020</td>\n",
       "      <td>2.000000</td>\n",
       "      <td>5.000000</td>\n",
       "    </tr>\n",
       "    <tr>\n",
       "      <th>P8</th>\n",
       "      <td>9.000000</td>\n",
       "      <td>10.295630</td>\n",
       "      <td>7.071068</td>\n",
       "      <td>7.211103</td>\n",
       "      <td>5.099020</td>\n",
       "      <td>9.848858</td>\n",
       "      <td>5.099020</td>\n",
       "      <td>0.000000</td>\n",
       "      <td>5.099020</td>\n",
       "      <td>9.219544</td>\n",
       "    </tr>\n",
       "    <tr>\n",
       "      <th>P9</th>\n",
       "      <td>11.180340</td>\n",
       "      <td>10.000000</td>\n",
       "      <td>10.000000</td>\n",
       "      <td>7.071068</td>\n",
       "      <td>8.485281</td>\n",
       "      <td>6.403124</td>\n",
       "      <td>2.000000</td>\n",
       "      <td>5.099020</td>\n",
       "      <td>0.000000</td>\n",
       "      <td>4.123106</td>\n",
       "    </tr>\n",
       "    <tr>\n",
       "      <th>P10</th>\n",
       "      <td>14.212670</td>\n",
       "      <td>11.704700</td>\n",
       "      <td>13.453624</td>\n",
       "      <td>9.433981</td>\n",
       "      <td>12.206556</td>\n",
       "      <td>6.000000</td>\n",
       "      <td>5.000000</td>\n",
       "      <td>9.219544</td>\n",
       "      <td>4.123106</td>\n",
       "      <td>0.000000</td>\n",
       "    </tr>\n",
       "  </tbody>\n",
       "</table>\n",
       "</div>"
      ],
      "text/plain": [
       "            P1         P2         P3        P4         P5         P6  \\\n",
       "P1    0.000000   5.000000   2.236068  5.000000   4.123106  10.295630   \n",
       "P2    5.000000   0.000000   6.324555  3.162278   7.211103   6.403124   \n",
       "P3    2.236068   6.324555   0.000000  5.099020   2.000000  10.440307   \n",
       "P4    5.000000   3.162278   5.099020  0.000000   5.099020   5.385165   \n",
       "P5    4.123106   7.211103   2.000000  5.099020   0.000000  10.049876   \n",
       "P6   10.295630   6.403124  10.440307  5.385165  10.049876   0.000000   \n",
       "P7    9.433981   8.000000   8.485281  5.099020   7.211103   5.000000   \n",
       "P8    9.000000  10.295630   7.071068  7.211103   5.099020   9.848858   \n",
       "P9   11.180340  10.000000  10.000000  7.071068   8.485281   6.403124   \n",
       "P10  14.212670  11.704700  13.453624  9.433981  12.206556   6.000000   \n",
       "\n",
       "           P7         P8         P9        P10  \n",
       "P1   9.433981   9.000000  11.180340  14.212670  \n",
       "P2   8.000000  10.295630  10.000000  11.704700  \n",
       "P3   8.485281   7.071068  10.000000  13.453624  \n",
       "P4   5.099020   7.211103   7.071068   9.433981  \n",
       "P5   7.211103   5.099020   8.485281  12.206556  \n",
       "P6   5.000000   9.848858   6.403124   6.000000  \n",
       "P7   0.000000   5.099020   2.000000   5.000000  \n",
       "P8   5.099020   0.000000   5.099020   9.219544  \n",
       "P9   2.000000   5.099020   0.000000   4.123106  \n",
       "P10  5.000000   9.219544   4.123106   0.000000  "
      ]
     },
     "execution_count": 29,
     "metadata": {},
     "output_type": "execute_result"
    }
   ],
   "source": [
    "from scipy.spatial.distance import squareform, pdist\n",
    "dist = pd.DataFrame(squareform(pdist(data[['a', 'b']]), 'euclidean'), columns=data.index.values, index=data.index.values)\n",
    "dist=dist\n",
    "dist"
   ]
  },
  {
   "cell_type": "code",
   "execution_count": 30,
   "metadata": {},
   "outputs": [
    {
     "data": {
      "text/plain": [
       "Text(0, 0.5, 'Distance')"
      ]
     },
     "execution_count": 30,
     "metadata": {},
     "output_type": "execute_result"
    },
    {
     "data": {
      "image/png": "[encoded data removed]",
      "text/plain": [
       "<Figure size 500x500 with 1 Axes>"
      ]
     },
     "metadata": {},
     "output_type": "display_data"
    }
   ],
   "source": [
    "from sklearn.neighbors import NearestNeighbors\n",
    "\n",
    "nearest_neighbors = NearestNeighbors(n_neighbors=3)\n",
    "neighbors = nearest_neighbors.fit(data)\n",
    "\n",
    "distances, indices = neighbors.kneighbors(data)\n",
    "distances = np.sort(distances[:,2], axis=0)\n",
    "\n",
    "fig = plt.figure(figsize=(5, 5))\n",
    "plt.plot(distances)\n",
    "plt.xlabel(\"Points\")\n",
    "plt.ylabel(\"Distance\")"
   ]
  },
  {
   "cell_type": "code",
   "execution_count": 31,
   "metadata": {},
   "outputs": [
    {
     "name": "stdout",
     "output_type": "stream",
     "text": [
      "5.385164807134504\n"
     ]
    },
    {
     "data": {
      "text/plain": [
       "<Figure size 500x500 with 0 Axes>"
      ]
     },
     "metadata": {},
     "output_type": "display_data"
    },
    {
     "data": {
      "image/png": "[encoded data removed]",
      "text/plain": [
       "<Figure size 600x600 with 1 Axes>"
      ]
     },
     "metadata": {},
     "output_type": "display_data"
    }
   ],
   "source": [
    "from kneed import KneeLocator\n",
    "\n",
    "i = np.arange(len(distances))\n",
    "knee = KneeLocator(i, distances, S=1, curve='convex', direction='increasing', interp_method='polynomial')\n",
    "\n",
    "fig = plt.figure(figsize=(5, 5))\n",
    "knee.plot_knee()\n",
    "plt.xlabel(\"Points\")\n",
    "plt.ylabel(\"Distance\")\n",
    "\n",
    "print(distances[knee.knee])"
   ]
  },
  {
   "cell_type": "code",
   "execution_count": 32,
   "metadata": {},
   "outputs": [
    {
     "name": "stdout",
     "output_type": "stream",
     "text": [
      "Estimated no. of clusters: 2\n",
      "Estimated no. of noise points: 1\n",
      "v_measure = 0.5812493673049759\n"
     ]
    },
    {
     "data": {
      "image/png": "[encoded data removed]",
      "text/plain": [
       "<Figure size 640x480 with 1 Axes>"
      ]
     },
     "metadata": {},
     "output_type": "display_data"
    }
   ],
   "source": [
    "dbscan_cluster = DBSCAN(eps=5, min_samples=3)\n",
    "dbscan_cluster.fit(data)\n",
    "\n",
    "# Visualizing DBSCAN\n",
    "plt.scatter(data['a'], \n",
    "data['b'], \n",
    "c=dbscan_cluster.labels_, \n",
    "label=data.index)\n",
    "plt.xlabel(\"$x$\")\n",
    "plt.ylabel(\"$y$\")\n",
    "\n",
    "# Number of Clusters\n",
    "labels=dbscan_cluster.labels_\n",
    "N_clus=len(set(labels))-(1 if -1 in labels else 0)\n",
    "print('Estimated no. of clusters: %d' % N_clus)\n",
    "\n",
    "# Identify Noise\n",
    "n_noise = list(dbscan_cluster.labels_).count(-1)\n",
    "print('Estimated no. of noise points: %d' % n_noise)\n",
    "\n",
    "# Calculating v_measure\n",
    "print('v_measure =', v_measure_score(data.index, labels))"
   ]
  }
 ],
 "metadata": {
  "kernelspec": {
   "display_name": "Python 3",
   "language": "python",
   "name": "python3"
  },
  "language_info": {
   "codemirror_mode": {
    "name": "ipython",
    "version": 3
   },
   "file_extension": ".py",
   "mimetype": "text/x-python",
   "name": "python",
   "nbconvert_exporter": "python",
   "pygments_lexer": "ipython3",
   "version": "3.12.2"
  }
 },
 "nbformat": 4,
 "nbformat_minor": 2
}
