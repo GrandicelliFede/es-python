{
 "cells": [
  {
   "cell_type": "code",
   "execution_count": 64,
   "metadata": {},
   "outputs": [],
   "source": [
    "import pandas as pd\n",
    "import numpy as np\n",
    "import sklearn.impute as skl\n",
    "\n",
    "df=pd.read_csv(r'car_prices.csv')"
   ]
  },
  {
   "cell_type": "code",
   "execution_count": 65,
   "metadata": {},
   "outputs": [
    {
     "data": {
      "text/html": [
       "<div>\n",
       "<style scoped>\n",
       "    .dataframe tbody tr th:only-of-type {\n",
       "        vertical-align: middle;\n",
       "    }\n",
       "\n",
       "    .dataframe tbody tr th {\n",
       "        vertical-align: top;\n",
       "    }\n",
       "\n",
       "    .dataframe thead th {\n",
       "        text-align: right;\n",
       "    }\n",
       "</style>\n",
       "<table border=\"1\" class=\"dataframe\">\n",
       "  <thead>\n",
       "    <tr style=\"text-align: right;\">\n",
       "      <th></th>\n",
       "      <th>year</th>\n",
       "      <th>make</th>\n",
       "      <th>model</th>\n",
       "      <th>trim</th>\n",
       "      <th>body</th>\n",
       "      <th>transmission</th>\n",
       "      <th>vin</th>\n",
       "      <th>state</th>\n",
       "      <th>condition</th>\n",
       "      <th>odometer</th>\n",
       "      <th>color</th>\n",
       "      <th>interior</th>\n",
       "      <th>seller</th>\n",
       "      <th>mmr</th>\n",
       "      <th>sellingprice</th>\n",
       "      <th>saledate</th>\n",
       "    </tr>\n",
       "  </thead>\n",
       "  <tbody>\n",
       "    <tr>\n",
       "      <th>0</th>\n",
       "      <td>2015</td>\n",
       "      <td>Kia</td>\n",
       "      <td>Sorento</td>\n",
       "      <td>LX</td>\n",
       "      <td>SUV</td>\n",
       "      <td>automatic</td>\n",
       "      <td>5xyktca69fg566472</td>\n",
       "      <td>ca</td>\n",
       "      <td>5.0</td>\n",
       "      <td>16639.0</td>\n",
       "      <td>white</td>\n",
       "      <td>black</td>\n",
       "      <td>kia motors america  inc</td>\n",
       "      <td>20500.0</td>\n",
       "      <td>21500.0</td>\n",
       "      <td>Tue Dec 16 2014 12:30:00 GMT-0800 (PST)</td>\n",
       "    </tr>\n",
       "    <tr>\n",
       "      <th>1</th>\n",
       "      <td>2015</td>\n",
       "      <td>Kia</td>\n",
       "      <td>Sorento</td>\n",
       "      <td>LX</td>\n",
       "      <td>SUV</td>\n",
       "      <td>automatic</td>\n",
       "      <td>5xyktca69fg561319</td>\n",
       "      <td>ca</td>\n",
       "      <td>5.0</td>\n",
       "      <td>9393.0</td>\n",
       "      <td>white</td>\n",
       "      <td>beige</td>\n",
       "      <td>kia motors america  inc</td>\n",
       "      <td>20800.0</td>\n",
       "      <td>21500.0</td>\n",
       "      <td>Tue Dec 16 2014 12:30:00 GMT-0800 (PST)</td>\n",
       "    </tr>\n",
       "    <tr>\n",
       "      <th>2</th>\n",
       "      <td>2014</td>\n",
       "      <td>BMW</td>\n",
       "      <td>3 Series</td>\n",
       "      <td>328i SULEV</td>\n",
       "      <td>Sedan</td>\n",
       "      <td>automatic</td>\n",
       "      <td>wba3c1c51ek116351</td>\n",
       "      <td>ca</td>\n",
       "      <td>45.0</td>\n",
       "      <td>1331.0</td>\n",
       "      <td>gray</td>\n",
       "      <td>black</td>\n",
       "      <td>financial services remarketing (lease)</td>\n",
       "      <td>31900.0</td>\n",
       "      <td>30000.0</td>\n",
       "      <td>Thu Jan 15 2015 04:30:00 GMT-0800 (PST)</td>\n",
       "    </tr>\n",
       "    <tr>\n",
       "      <th>3</th>\n",
       "      <td>2015</td>\n",
       "      <td>Volvo</td>\n",
       "      <td>S60</td>\n",
       "      <td>T5</td>\n",
       "      <td>Sedan</td>\n",
       "      <td>automatic</td>\n",
       "      <td>yv1612tb4f1310987</td>\n",
       "      <td>ca</td>\n",
       "      <td>41.0</td>\n",
       "      <td>14282.0</td>\n",
       "      <td>white</td>\n",
       "      <td>black</td>\n",
       "      <td>volvo na rep/world omni</td>\n",
       "      <td>27500.0</td>\n",
       "      <td>27750.0</td>\n",
       "      <td>Thu Jan 29 2015 04:30:00 GMT-0800 (PST)</td>\n",
       "    </tr>\n",
       "    <tr>\n",
       "      <th>4</th>\n",
       "      <td>2014</td>\n",
       "      <td>BMW</td>\n",
       "      <td>6 Series Gran Coupe</td>\n",
       "      <td>650i</td>\n",
       "      <td>Sedan</td>\n",
       "      <td>automatic</td>\n",
       "      <td>wba6b2c57ed129731</td>\n",
       "      <td>ca</td>\n",
       "      <td>43.0</td>\n",
       "      <td>2641.0</td>\n",
       "      <td>gray</td>\n",
       "      <td>black</td>\n",
       "      <td>financial services remarketing (lease)</td>\n",
       "      <td>66000.0</td>\n",
       "      <td>67000.0</td>\n",
       "      <td>Thu Dec 18 2014 12:30:00 GMT-0800 (PST)</td>\n",
       "    </tr>\n",
       "    <tr>\n",
       "      <th>...</th>\n",
       "      <td>...</td>\n",
       "      <td>...</td>\n",
       "      <td>...</td>\n",
       "      <td>...</td>\n",
       "      <td>...</td>\n",
       "      <td>...</td>\n",
       "      <td>...</td>\n",
       "      <td>...</td>\n",
       "      <td>...</td>\n",
       "      <td>...</td>\n",
       "      <td>...</td>\n",
       "      <td>...</td>\n",
       "      <td>...</td>\n",
       "      <td>...</td>\n",
       "      <td>...</td>\n",
       "      <td>...</td>\n",
       "    </tr>\n",
       "    <tr>\n",
       "      <th>558832</th>\n",
       "      <td>2015</td>\n",
       "      <td>Kia</td>\n",
       "      <td>K900</td>\n",
       "      <td>Luxury</td>\n",
       "      <td>Sedan</td>\n",
       "      <td>NaN</td>\n",
       "      <td>knalw4d4xf6019304</td>\n",
       "      <td>in</td>\n",
       "      <td>45.0</td>\n",
       "      <td>18255.0</td>\n",
       "      <td>silver</td>\n",
       "      <td>black</td>\n",
       "      <td>avis corporation</td>\n",
       "      <td>35300.0</td>\n",
       "      <td>33000.0</td>\n",
       "      <td>Thu Jul 09 2015 07:00:00 GMT-0700 (PDT)</td>\n",
       "    </tr>\n",
       "    <tr>\n",
       "      <th>558833</th>\n",
       "      <td>2012</td>\n",
       "      <td>Ram</td>\n",
       "      <td>2500</td>\n",
       "      <td>Power Wagon</td>\n",
       "      <td>Crew Cab</td>\n",
       "      <td>automatic</td>\n",
       "      <td>3c6td5et6cg112407</td>\n",
       "      <td>wa</td>\n",
       "      <td>5.0</td>\n",
       "      <td>54393.0</td>\n",
       "      <td>white</td>\n",
       "      <td>black</td>\n",
       "      <td>i -5 uhlmann rv</td>\n",
       "      <td>30200.0</td>\n",
       "      <td>30800.0</td>\n",
       "      <td>Wed Jul 08 2015 09:30:00 GMT-0700 (PDT)</td>\n",
       "    </tr>\n",
       "    <tr>\n",
       "      <th>558834</th>\n",
       "      <td>2012</td>\n",
       "      <td>BMW</td>\n",
       "      <td>X5</td>\n",
       "      <td>xDrive35d</td>\n",
       "      <td>SUV</td>\n",
       "      <td>automatic</td>\n",
       "      <td>5uxzw0c58cl668465</td>\n",
       "      <td>ca</td>\n",
       "      <td>48.0</td>\n",
       "      <td>50561.0</td>\n",
       "      <td>black</td>\n",
       "      <td>black</td>\n",
       "      <td>financial services remarketing (lease)</td>\n",
       "      <td>29800.0</td>\n",
       "      <td>34000.0</td>\n",
       "      <td>Wed Jul 08 2015 09:30:00 GMT-0700 (PDT)</td>\n",
       "    </tr>\n",
       "    <tr>\n",
       "      <th>558835</th>\n",
       "      <td>2015</td>\n",
       "      <td>Nissan</td>\n",
       "      <td>Altima</td>\n",
       "      <td>2.5 S</td>\n",
       "      <td>sedan</td>\n",
       "      <td>automatic</td>\n",
       "      <td>1n4al3ap0fc216050</td>\n",
       "      <td>ga</td>\n",
       "      <td>38.0</td>\n",
       "      <td>16658.0</td>\n",
       "      <td>white</td>\n",
       "      <td>black</td>\n",
       "      <td>enterprise vehicle exchange / tra / rental / t...</td>\n",
       "      <td>15100.0</td>\n",
       "      <td>11100.0</td>\n",
       "      <td>Thu Jul 09 2015 06:45:00 GMT-0700 (PDT)</td>\n",
       "    </tr>\n",
       "    <tr>\n",
       "      <th>558836</th>\n",
       "      <td>2014</td>\n",
       "      <td>Ford</td>\n",
       "      <td>F-150</td>\n",
       "      <td>XLT</td>\n",
       "      <td>SuperCrew</td>\n",
       "      <td>automatic</td>\n",
       "      <td>1ftfw1et2eke87277</td>\n",
       "      <td>ca</td>\n",
       "      <td>34.0</td>\n",
       "      <td>15008.0</td>\n",
       "      <td>gray</td>\n",
       "      <td>gray</td>\n",
       "      <td>ford motor credit company llc pd</td>\n",
       "      <td>29600.0</td>\n",
       "      <td>26700.0</td>\n",
       "      <td>Thu May 28 2015 05:30:00 GMT-0700 (PDT)</td>\n",
       "    </tr>\n",
       "  </tbody>\n",
       "</table>\n",
       "<p>558837 rows × 16 columns</p>\n",
       "</div>"
      ],
      "text/plain": [
       "        year    make                model         trim       body  \\\n",
       "0       2015     Kia              Sorento           LX        SUV   \n",
       "1       2015     Kia              Sorento           LX        SUV   \n",
       "2       2014     BMW             3 Series   328i SULEV      Sedan   \n",
       "3       2015   Volvo                  S60           T5      Sedan   \n",
       "4       2014     BMW  6 Series Gran Coupe         650i      Sedan   \n",
       "...      ...     ...                  ...          ...        ...   \n",
       "558832  2015     Kia                 K900       Luxury      Sedan   \n",
       "558833  2012     Ram                 2500  Power Wagon   Crew Cab   \n",
       "558834  2012     BMW                   X5    xDrive35d        SUV   \n",
       "558835  2015  Nissan               Altima        2.5 S      sedan   \n",
       "558836  2014    Ford                F-150          XLT  SuperCrew   \n",
       "\n",
       "       transmission                vin state  condition  odometer   color  \\\n",
       "0         automatic  5xyktca69fg566472    ca        5.0   16639.0   white   \n",
       "1         automatic  5xyktca69fg561319    ca        5.0    9393.0   white   \n",
       "2         automatic  wba3c1c51ek116351    ca       45.0    1331.0    gray   \n",
       "3         automatic  yv1612tb4f1310987    ca       41.0   14282.0   white   \n",
       "4         automatic  wba6b2c57ed129731    ca       43.0    2641.0    gray   \n",
       "...             ...                ...   ...        ...       ...     ...   \n",
       "558832          NaN  knalw4d4xf6019304    in       45.0   18255.0  silver   \n",
       "558833    automatic  3c6td5et6cg112407    wa        5.0   54393.0   white   \n",
       "558834    automatic  5uxzw0c58cl668465    ca       48.0   50561.0   black   \n",
       "558835    automatic  1n4al3ap0fc216050    ga       38.0   16658.0   white   \n",
       "558836    automatic  1ftfw1et2eke87277    ca       34.0   15008.0    gray   \n",
       "\n",
       "       interior                                             seller      mmr  \\\n",
       "0         black                            kia motors america  inc  20500.0   \n",
       "1         beige                            kia motors america  inc  20800.0   \n",
       "2         black             financial services remarketing (lease)  31900.0   \n",
       "3         black                            volvo na rep/world omni  27500.0   \n",
       "4         black             financial services remarketing (lease)  66000.0   \n",
       "...         ...                                                ...      ...   \n",
       "558832    black                                   avis corporation  35300.0   \n",
       "558833    black                                    i -5 uhlmann rv  30200.0   \n",
       "558834    black             financial services remarketing (lease)  29800.0   \n",
       "558835    black  enterprise vehicle exchange / tra / rental / t...  15100.0   \n",
       "558836     gray                   ford motor credit company llc pd  29600.0   \n",
       "\n",
       "        sellingprice                                 saledate  \n",
       "0            21500.0  Tue Dec 16 2014 12:30:00 GMT-0800 (PST)  \n",
       "1            21500.0  Tue Dec 16 2014 12:30:00 GMT-0800 (PST)  \n",
       "2            30000.0  Thu Jan 15 2015 04:30:00 GMT-0800 (PST)  \n",
       "3            27750.0  Thu Jan 29 2015 04:30:00 GMT-0800 (PST)  \n",
       "4            67000.0  Thu Dec 18 2014 12:30:00 GMT-0800 (PST)  \n",
       "...              ...                                      ...  \n",
       "558832       33000.0  Thu Jul 09 2015 07:00:00 GMT-0700 (PDT)  \n",
       "558833       30800.0  Wed Jul 08 2015 09:30:00 GMT-0700 (PDT)  \n",
       "558834       34000.0  Wed Jul 08 2015 09:30:00 GMT-0700 (PDT)  \n",
       "558835       11100.0  Thu Jul 09 2015 06:45:00 GMT-0700 (PDT)  \n",
       "558836       26700.0  Thu May 28 2015 05:30:00 GMT-0700 (PDT)  \n",
       "\n",
       "[558837 rows x 16 columns]"
      ]
     },
     "execution_count": 65,
     "metadata": {},
     "output_type": "execute_result"
    }
   ],
   "source": [
    "df"
   ]
  },
  {
   "cell_type": "code",
   "execution_count": 66,
   "metadata": {},
   "outputs": [
    {
     "data": {
      "text/plain": [
       "year                0\n",
       "make            10301\n",
       "model           10399\n",
       "trim            10651\n",
       "body            13195\n",
       "transmission    65352\n",
       "vin                 4\n",
       "state               0\n",
       "condition       11820\n",
       "odometer           94\n",
       "color             749\n",
       "interior          749\n",
       "seller              0\n",
       "mmr                38\n",
       "sellingprice       12\n",
       "saledate           12\n",
       "dtype: int64"
      ]
     },
     "execution_count": 66,
     "metadata": {},
     "output_type": "execute_result"
    }
   ],
   "source": [
    "df.isna().sum()"
   ]
  },
  {
   "cell_type": "code",
   "execution_count": 67,
   "metadata": {},
   "outputs": [
    {
     "name": "stdout",
     "output_type": "stream",
     "text": [
      "transmission\n",
      "automatic    475915\n",
      "manual        17544\n",
      "sedan            15\n",
      "Sedan            11\n",
      "Name: count, dtype: int64\n",
      "65352\n"
     ]
    }
   ],
   "source": [
    "print(df.transmission.value_counts())\n",
    "print(df['transmission'].isna().sum())"
   ]
  },
  {
   "cell_type": "code",
   "execution_count": 68,
   "metadata": {},
   "outputs": [
    {
     "data": {
      "text/plain": [
       "transmission\n",
       "automatic    475915\n",
       "manual        17544\n",
       "Name: count, dtype: int64"
      ]
     },
     "execution_count": 68,
     "metadata": {},
     "output_type": "execute_result"
    }
   ],
   "source": [
    "df = df[df.transmission != 'sedan']\n",
    "df = df[df.transmission != 'Sedan']\n",
    "df['transmission'].value_counts()"
   ]
  },
  {
   "cell_type": "code",
   "execution_count": 69,
   "metadata": {},
   "outputs": [
    {
     "data": {
      "text/plain": [
       "transmission\n",
       "1.0    475915\n",
       "0.0     17544\n",
       "Name: count, dtype: int64"
      ]
     },
     "execution_count": 69,
     "metadata": {},
     "output_type": "execute_result"
    }
   ],
   "source": [
    "df['transmission'] = df['transmission'].replace(['manual','automatic'], [0,1])\n",
    "df['transmission'].value_counts()\n"
   ]
  },
  {
   "cell_type": "code",
   "execution_count": 70,
   "metadata": {},
   "outputs": [
    {
     "data": {
      "text/plain": [
       "0"
      ]
     },
     "execution_count": 70,
     "metadata": {},
     "output_type": "execute_result"
    }
   ],
   "source": [
    "cleaner_transmission=skl.SimpleImputer(strategy='most_frequent')\n",
    "df['transmission']=cleaner_transmission.fit_transform(df['transmission'].values.reshape(-1,1))\n",
    "df['transmission'].isna().sum()"
   ]
  },
  {
   "cell_type": "code",
   "execution_count": 77,
   "metadata": {},
   "outputs": [
    {
     "data": {
      "text/plain": [
       "array(['kia', 'bmw', 'volvo', 'nissan', 'chevrolet', 'audi', 'ford',\n",
       "       'hyundai', 'buick', 'cadillac', 'acura', 'lexus', 'infiniti',\n",
       "       'jeep', 'mercedes-benz', 'mitsubishi', 'mazda', 'mini',\n",
       "       'land rover', 'lincoln', 'jaguar', 'volkswagen', 'toyota',\n",
       "       'subaru', 'scion', 'porsche', nan, 'dodge', 'fiat', 'chrysler',\n",
       "       'ferrari', 'honda', 'gmc', 'ram', 'smart', 'bentley', 'pontiac',\n",
       "       'saturn', 'maserati', 'mercury', 'hummer', 'landrover', 'mercedes',\n",
       "       'gmc truck', 'saab', 'suzuki', 'oldsmobile', 'isuzu', 'dodge tk',\n",
       "       'geo', 'rolls-royce', 'mazda tk', 'hyundai tk', 'mercedes-b', 'vw',\n",
       "       'daewoo', 'chev truck', 'ford tk', 'plymouth', 'ford truck',\n",
       "       'tesla', 'airstream', 'dot', 'aston martin', 'fisker',\n",
       "       'lamborghini', 'lotus'], dtype=object)"
      ]
     },
     "execution_count": 77,
     "metadata": {},
     "output_type": "execute_result"
    }
   ],
   "source": [
    "df['make'].str.lower().unique()"
   ]
  },
  {
   "cell_type": "code",
   "execution_count": null,
   "metadata": {},
   "outputs": [],
   "source": [
    "cleaner_condition=skl.SimpleImputer(strategy='median')\n",
    "df['condition']"
   ]
  },
  {
   "cell_type": "code",
   "execution_count": 78,
   "metadata": {},
   "outputs": [
    {
     "name": "stdout",
     "output_type": "stream",
     "text": [
      "13195\n",
      "10301\n",
      "10399\n",
      "10651\n"
     ]
    }
   ],
   "source": [
    "print(df['body'].isna().sum())\n",
    "print(df['make'].isna().sum())\n",
    "print(df['model'].isna().sum())\n",
    "print(df['trim'].isna().sum())"
   ]
  },
  {
   "cell_type": "code",
   "execution_count": null,
   "metadata": {},
   "outputs": [],
   "source": [
    "print('luca gay')"
   ]
  }
 ],
 "metadata": {
  "kernelspec": {
   "display_name": "Python 3",
   "language": "python",
   "name": "python3"
  },
  "language_info": {
   "codemirror_mode": {
    "name": "ipython",
    "version": 3
   },
   "file_extension": ".py",
   "mimetype": "text/x-python",
   "name": "python",
   "nbconvert_exporter": "python",
   "pygments_lexer": "ipython3",
   "version": "3.12.2"
  }
 },
 "nbformat": 4,
 "nbformat_minor": 2
}
